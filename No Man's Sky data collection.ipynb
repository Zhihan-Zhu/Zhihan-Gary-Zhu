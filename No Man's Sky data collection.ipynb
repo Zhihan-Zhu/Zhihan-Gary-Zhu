{
 "cells": [
  {
   "cell_type": "code",
   "execution_count": null,
   "metadata": {},
   "outputs": [],
   "source": [
    "import requests\n",
    "import pandas as pd\n",
    "from bs4 import BeautifulSoup\n",
    "from datetime import datetime\n",
    "import numpy as np"
   ]
  },
  {
   "cell_type": "markdown",
   "metadata": {},
   "source": [
    "### XHR request"
   ]
  },
  {
   "cell_type": "markdown",
   "metadata": {},
   "source": [
    "The steam review [page](https://steamcommunity.com/app/275850/reviews/?browsefilter=toprated&snr=1_5_100010_) is dynamic. It loads 10 more user reviews each time scrolling down.\n",
    "\n",
    "By inspecting the __XHR(XMLHttpRequest)__ request, I can catch the patterns in the change of parameters, then use BeautifulSoup to scrap the needed information."
   ]
  },
  {
   "cell_type": "code",
   "execution_count": null,
   "metadata": {},
   "outputs": [],
   "source": [
    "review_df=pd.DataFrame()\n",
    "\n",
    "for i in range(1,7953):\n",
    "    url='https://steamcommunity.com/app/275850/homecontent'\n",
    "    response=requests.get(url,params={\n",
    "        'userreviewsoffset': (i-1)*10,\n",
    "        'p': i,\n",
    "        'workshopitemspage': i,\n",
    "        'readytouseitemspage': i,\n",
    "        'mtxitemspage': i,\n",
    "        'itemspage': i,\n",
    "        'screenshotspage': i,\n",
    "        'videospage': i,\n",
    "        'artpage': i,\n",
    "        'allguidepage': i,\n",
    "        'webguidepage': i,\n",
    "        'integeratedguidepage': i,\n",
    "        'discussionspage': i,\n",
    "        'numperpage': 10,\n",
    "        'browsefilter': 'toprated',\n",
    "        'browsefilter': 'toprated',\n",
    "        'appid': 275850,\n",
    "        'appHubSubSection': 10,\n",
    "        'l': 'english',\n",
    "        'filterLanguage': 'default',\n",
    "        'searchText': '',\n",
    "        'forceanon':1\n",
    "    })\n",
    "    url = response.url\n",
    "    html = requests.get(url).text\n",
    "    soup = BeautifulSoup(html, 'html.parser')\n",
    "    reviews=soup.find_all('div', {'class': 'apphub_Card'})\n",
    "#     for review in reviews:\n",
    "#         user = review.find('div', {'class': 'apphub_CardContentAuthorName'})\n",
    "#         title = review.find('div', {'class': 'title'}).text\n",
    "#         hour = review.find('div', {'class': 'hours'}).text.split(' ')[0]\n",
    "#         user_link = user.find('a').attrs['href']\n",
    "        \n",
    "#         s=review.find('div', {'class': 'apphub_CardTextContent'})\n",
    "#         post_date=s.find('div').get_text(strip=True)\n",
    "#         s.find('div').decompose()\n",
    "#         comment = s.get_text(strip=True)\n",
    "        \n",
    "    user = [review.find('div', {'class': 'apphub_CardContentAuthorName'}) for review in reviews]\n",
    "    title = [review.find('div', {'class': 'title'}).text for review in reviews]\n",
    "    hour = [np.nan if review.find('div', {'class': 'hours'})==None else \n",
    "            review.find('div', {'class': 'hours'}).text.split(' ')[0] for review in reviews]\n",
    "    user_link = [x.find('a').attrs['href'] for x in user]\n",
    "    helpful = [review.find('div',{'class': 'found_helpful'}).get_text(strip=True).split(' ')[0] for review in reviews]\n",
    "        \n",
    "    comment_date = [review.find('div', {'class': 'apphub_CardTextContent'}) for review in reviews]\n",
    "    post_date = [x.find('div').get_text(strip=True) for x in comment_date]\n",
    "    [x.find('div').decompose() for x in comment_date]                    #delete date from comment section\n",
    "    comment = [x.get_text('\\n',strip=True) for x in comment_date]\n",
    "    \n",
    "    \n",
    "    df=pd.DataFrame({\n",
    "        'user': [x.text for x in user],\n",
    "        'playtime': hour,\n",
    "        'user_link': user_link,\n",
    "        'post_date': post_date,\n",
    "#         'post_date': [' '.join(x.split(' ')[1:]) for x in post_date],\n",
    "        'helpfulness': [0 if num == 'No' else num for num in helpful],\n",
    "        'review': comment,\n",
    "        'recommend': title\n",
    "    })\n",
    "    review_df=review_df.append(df,ignore_index=True)"
   ]
  },
  {
   "cell_type": "code",
   "execution_count": null,
   "metadata": {},
   "outputs": [],
   "source": [
    "review_df.to_csv('No Mans Sky.csv',index=False)"
   ]
  },
  {
   "cell_type": "markdown",
   "metadata": {},
   "source": [
    "### Another try: Steam API"
   ]
  },
  {
   "cell_type": "markdown",
   "metadata": {},
   "source": [
    "#### This does not work properly. It works for only the first hundres reviews, and return empty content for the remaining."
   ]
  },
  {
   "cell_type": "code",
   "execution_count": null,
   "metadata": {},
   "outputs": [],
   "source": [
    "def reviews_search(gameid,start_offset,filt='all',language='en',review_type='all',purchase_type='all',num_per_page=20):\n",
    "    url = 'https://store.steampowered.com/appreviews/'+str(gameid)+'?json=1'\n",
    "\n",
    "    response = requests.get(url, params = {\n",
    "        'filter': filt,\n",
    "        'start_offset': start_offset,\n",
    "        'language': language,\n",
    "        'review_type': review_type,\n",
    "        'purchase_type': purchase_type,\n",
    "        'num_per_page': num_per_page\n",
    "    })\n",
    "    response.raise_for_status() # check for errors\n",
    "\n",
    "    return response.json() # parse JSON"
   ]
  },
  {
   "cell_type": "code",
   "execution_count": null,
   "metadata": {},
   "outputs": [],
   "source": [
    "num=0\n",
    "max_num=80000\n",
    "\n",
    "review_df=pd.DataFrame()\n",
    "while num<max_num:\n",
    "    result=reviews_search(275850,num)['reviews']\n",
    "    review=[x['review'] for x in result]\n",
    "    date=[x['timestamp_created'] for x in result]\n",
    "    recommend=[x['voted_up'] for x in result]\n",
    "    helpful=[x['votes_up'] for x in result]\n",
    "    playtime=[x['author']['playtime_forever'] for x in result]\n",
    "    df=pd.DataFrame({'review': review,\n",
    "                     'date': date,\n",
    "                     'helpfulness': helpful,\n",
    "                     'playtime': playtime,\n",
    "                     'recommend': recommend})\n",
    "    review_df=review_df.append(df,ignore_index=True)\n",
    "    num+=20"
   ]
  }
 ],
 "metadata": {
  "kernelspec": {
   "display_name": "Python 3",
   "language": "python",
   "name": "python3"
  },
  "language_info": {
   "codemirror_mode": {
    "name": "ipython",
    "version": 3
   },
   "file_extension": ".py",
   "mimetype": "text/x-python",
   "name": "python",
   "nbconvert_exporter": "python",
   "pygments_lexer": "ipython3",
   "version": "3.6.8"
  }
 },
 "nbformat": 4,
 "nbformat_minor": 2
}
